{
 "cells": [
  {
   "cell_type": "code",
   "execution_count": 1,
   "id": "15eba833-de13-4fc9-b0ce-ed2895ad61fd",
   "metadata": {},
   "outputs": [],
   "source": [
    "import tensorflow as tf"
   ]
  },
  {
   "cell_type": "code",
   "execution_count": 2,
   "id": "a5eeac68",
   "metadata": {},
   "outputs": [],
   "source": [
    "from tensorflow import keras\n",
    "from tensorflow.keras import layers\n",
    "from tensorflow.keras.datasets import mnist"
   ]
  },
  {
   "cell_type": "code",
   "execution_count": 3,
   "id": "7b4a976b",
   "metadata": {},
   "outputs": [],
   "source": [
    "(x_train,y_train), (x_test,y_test) = mnist.load_data()"
   ]
  },
  {
   "cell_type": "code",
   "execution_count": 4,
   "id": "b101092f",
   "metadata": {},
   "outputs": [
    {
     "name": "stdout",
     "output_type": "stream",
     "text": [
      "(60000, 28, 28)\n",
      "(60000,)\n"
     ]
    }
   ],
   "source": [
    "print(x_train.shape)\n",
    "print(y_train.shape)"
   ]
  },
  {
   "cell_type": "code",
   "execution_count": 5,
   "id": "fd220b58",
   "metadata": {},
   "outputs": [],
   "source": [
    "x_train = x_train.reshape(-1,28*28).astype(\"float32\")/255.0\n",
    "x_test = x_test.reshape(-1,28*28).astype(\"float32\")/255.0"
   ]
  },
  {
   "cell_type": "markdown",
   "id": "bf864b07",
   "metadata": {},
   "source": [
    "### Sequential API 1"
   ]
  },
  {
   "cell_type": "code",
   "execution_count": 6,
   "id": "5375d4ce",
   "metadata": {},
   "outputs": [],
   "source": [
    "model = keras.Sequential(\n",
    "    [\n",
    "        layers.Dense(512, activation='relu'),\n",
    "        layers.Dense(256, activation='relu'),\n",
    "        layers.Dense(10),\n",
    "    ]\n",
    ")"
   ]
  },
  {
   "cell_type": "code",
   "execution_count": 7,
   "id": "49a5ca8b",
   "metadata": {},
   "outputs": [],
   "source": [
    "model.compile(\n",
    "    loss = keras.losses.SparseCategoricalCrossentropy(from_logits=True),\n",
    "    optimizer = keras.optimizers.Adam(learning_rate=0.001),\n",
    "    metrics = ['accuracy'],\n",
    ")"
   ]
  },
  {
   "cell_type": "code",
   "execution_count": 8,
   "id": "1441d267",
   "metadata": {},
   "outputs": [
    {
     "name": "stdout",
     "output_type": "stream",
     "text": [
      "Epoch 1/5\n",
      "1875/1875 - 7s - 4ms/step - accuracy: 0.9433 - loss: 0.1857\n",
      "Epoch 2/5\n",
      "1875/1875 - 6s - 3ms/step - accuracy: 0.9754 - loss: 0.0789\n",
      "Epoch 3/5\n",
      "1875/1875 - 6s - 3ms/step - accuracy: 0.9823 - loss: 0.0544\n",
      "Epoch 4/5\n",
      "1875/1875 - 6s - 3ms/step - accuracy: 0.9870 - loss: 0.0410\n",
      "Epoch 5/5\n",
      "1875/1875 - 6s - 3ms/step - accuracy: 0.9893 - loss: 0.0332\n",
      "313/313 - 0s - 1ms/step - accuracy: 0.9741 - loss: 0.0937\n"
     ]
    },
    {
     "data": {
      "text/plain": [
       "[0.09366509318351746, 0.9740999937057495]"
      ]
     },
     "execution_count": 8,
     "metadata": {},
     "output_type": "execute_result"
    }
   ],
   "source": [
    "model.fit(x_train,y_train, batch_size=32, epochs=5, verbose=2)\n",
    "model.evaluate(x_test, y_test, batch_size=32, verbose=2)"
   ]
  },
  {
   "cell_type": "markdown",
   "id": "04eb6392",
   "metadata": {},
   "source": [
    "### Sequential API 2"
   ]
  },
  {
   "cell_type": "code",
   "execution_count": 9,
   "id": "f67ee686",
   "metadata": {},
   "outputs": [],
   "source": [
    "model = keras.Sequential(\n",
    "    [\n",
    "        keras.Input(shape=(28*28,)),\n",
    "        layers.Dense(512, activation='relu'),\n",
    "        layers.Dense(256, activation='relu'),\n",
    "        layers.Dense(10),\n",
    "    ]\n",
    ")"
   ]
  },
  {
   "cell_type": "code",
   "execution_count": 10,
   "id": "712892d2",
   "metadata": {},
   "outputs": [],
   "source": [
    "model.compile(\n",
    "    loss = keras.losses.SparseCategoricalCrossentropy(from_logits=True),\n",
    "    optimizer = keras.optimizers.Adam(learning_rate=0.001),\n",
    "    metrics = ['accuracy'],\n",
    ")"
   ]
  },
  {
   "cell_type": "code",
   "execution_count": 11,
   "id": "9c30cff7",
   "metadata": {},
   "outputs": [
    {
     "name": "stdout",
     "output_type": "stream",
     "text": [
      "Epoch 1/5\n",
      "1875/1875 - 7s - 4ms/step - accuracy: 0.9431 - loss: 0.1850\n",
      "Epoch 2/5\n",
      "1875/1875 - 6s - 3ms/step - accuracy: 0.9756 - loss: 0.0797\n",
      "Epoch 3/5\n",
      "1875/1875 - 6s - 3ms/step - accuracy: 0.9818 - loss: 0.0562\n",
      "Epoch 4/5\n",
      "1875/1875 - 6s - 3ms/step - accuracy: 0.9861 - loss: 0.0443\n",
      "Epoch 5/5\n",
      "1875/1875 - 6s - 3ms/step - accuracy: 0.9896 - loss: 0.0326\n",
      "313/313 - 0s - 1ms/step - accuracy: 0.9768 - loss: 0.0836\n"
     ]
    },
    {
     "data": {
      "text/plain": [
       "[0.08360791206359863, 0.9768000245094299]"
      ]
     },
     "execution_count": 11,
     "metadata": {},
     "output_type": "execute_result"
    }
   ],
   "source": [
    "model.fit(x_train,y_train, batch_size=32, epochs=5, verbose=2)\n",
    "model.evaluate(x_test, y_test, batch_size=32, verbose=2)"
   ]
  },
  {
   "cell_type": "markdown",
   "id": "63a696e7",
   "metadata": {},
   "source": [
    "### Sequential API 3"
   ]
  },
  {
   "cell_type": "code",
   "execution_count": 12,
   "id": "1db292a5",
   "metadata": {},
   "outputs": [],
   "source": [
    "model = keras.Sequential()\n",
    "model.add(keras.Input(shape = (784,)))\n",
    "model.add(layers.Dense(512, activation='relu'))\n",
    "model.add(layers.Dense(256, activation='relu'))\n",
    "model.add(layers.Dense(10))"
   ]
  },
  {
   "cell_type": "code",
   "execution_count": 13,
   "id": "4e2145ec",
   "metadata": {},
   "outputs": [],
   "source": [
    "model.compile(\n",
    "    loss = keras.losses.SparseCategoricalCrossentropy(from_logits=True),\n",
    "    optimizer = keras.optimizers.Adam(learning_rate=0.001),\n",
    "    metrics = ['accuracy'],\n",
    ")"
   ]
  },
  {
   "cell_type": "code",
   "execution_count": 14,
   "id": "d3a2033b",
   "metadata": {},
   "outputs": [
    {
     "name": "stdout",
     "output_type": "stream",
     "text": [
      "Epoch 1/5\n",
      "1875/1875 - 7s - 4ms/step - accuracy: 0.9433 - loss: 0.1871\n",
      "Epoch 2/5\n",
      "1875/1875 - 6s - 3ms/step - accuracy: 0.9752 - loss: 0.0804\n",
      "Epoch 3/5\n",
      "1875/1875 - 6s - 3ms/step - accuracy: 0.9825 - loss: 0.0545\n",
      "Epoch 4/5\n",
      "1875/1875 - 6s - 3ms/step - accuracy: 0.9866 - loss: 0.0413\n",
      "Epoch 5/5\n",
      "1875/1875 - 6s - 3ms/step - accuracy: 0.9894 - loss: 0.0331\n",
      "313/313 - 0s - 1ms/step - accuracy: 0.9786 - loss: 0.0788\n"
     ]
    },
    {
     "data": {
      "text/plain": [
       "[0.07883935421705246, 0.978600025177002]"
      ]
     },
     "execution_count": 14,
     "metadata": {},
     "output_type": "execute_result"
    }
   ],
   "source": [
    "model.fit(x_train,y_train, batch_size=32, epochs=5, verbose=2)\n",
    "model.evaluate(x_test, y_test, batch_size=32, verbose=2)"
   ]
  },
  {
   "cell_type": "markdown",
   "id": "1b9e4761",
   "metadata": {},
   "source": [
    "### Functional API"
   ]
  },
  {
   "cell_type": "code",
   "execution_count": 15,
   "id": "fea9863f",
   "metadata": {},
   "outputs": [],
   "source": [
    "inputs = keras.Input(shape=(784,))\n",
    "x = layers.Dense(512, activation='relu')(inputs)\n",
    "x = layers.Dense(256, activation='relu')(x)\n",
    "outputs = layers.Dense(10, activation='softmax')(x)\n",
    "\n",
    "model = keras.Model(inputs=inputs, outputs=outputs)"
   ]
  },
  {
   "cell_type": "code",
   "execution_count": 16,
   "id": "92effc22",
   "metadata": {},
   "outputs": [],
   "source": [
    "model.compile(\n",
    "    loss = keras.losses.SparseCategoricalCrossentropy(from_logits=False),\n",
    "    optimizer = keras.optimizers.Adam(learning_rate=0.001),\n",
    "    metrics = ['accuracy'],\n",
    ")"
   ]
  },
  {
   "cell_type": "code",
   "execution_count": 17,
   "id": "2a5b853f",
   "metadata": {},
   "outputs": [],
   "source": [
    "# model.fit(x_train,y_train, batch_size=32, epochs=5, verbose=2)\n",
    "# model.evaluate(x_test, y_test, batch_size=32, verbose=2)"
   ]
  },
  {
   "cell_type": "code",
   "execution_count": 18,
   "id": "ac9915f1",
   "metadata": {},
   "outputs": [
    {
     "name": "stdout",
     "output_type": "stream",
     "text": [
      "Epoch 1/10\n",
      "1875/1875 - 7s - 4ms/step - accuracy: 0.9422 - loss: 0.1855\n",
      "Epoch 2/10\n",
      "1875/1875 - 6s - 3ms/step - accuracy: 0.9747 - loss: 0.0806\n",
      "Epoch 3/10\n",
      "1875/1875 - 6s - 3ms/step - accuracy: 0.9823 - loss: 0.0561\n",
      "Epoch 4/10\n",
      "1875/1875 - 6s - 3ms/step - accuracy: 0.9864 - loss: 0.0424\n",
      "Epoch 5/10\n",
      "1875/1875 - 6s - 3ms/step - accuracy: 0.9895 - loss: 0.0332\n",
      "Epoch 6/10\n",
      "1875/1875 - 6s - 3ms/step - accuracy: 0.9908 - loss: 0.0278\n",
      "Epoch 7/10\n",
      "1875/1875 - 6s - 3ms/step - accuracy: 0.9928 - loss: 0.0229\n",
      "Epoch 8/10\n",
      "1875/1875 - 7s - 3ms/step - accuracy: 0.9934 - loss: 0.0209\n",
      "Epoch 9/10\n",
      "1875/1875 - 6s - 3ms/step - accuracy: 0.9941 - loss: 0.0183\n",
      "Epoch 10/10\n",
      "1875/1875 - 6s - 3ms/step - accuracy: 0.9942 - loss: 0.0191\n",
      "313/313 - 0s - 1ms/step - accuracy: 0.9779 - loss: 0.1027\n"
     ]
    },
    {
     "data": {
      "text/plain": [
       "[0.10270483046770096, 0.9779000282287598]"
      ]
     },
     "execution_count": 18,
     "metadata": {},
     "output_type": "execute_result"
    }
   ],
   "source": [
    "model.fit(x_train,y_train, batch_size=32, epochs=10, verbose=2)\n",
    "model.evaluate(x_test, y_test, batch_size=32, verbose=2)"
   ]
  },
  {
   "cell_type": "code",
   "execution_count": null,
   "id": "5cfa3769",
   "metadata": {},
   "outputs": [],
   "source": []
  }
 ],
 "metadata": {
  "kernelspec": {
   "display_name": "Python 3 (ipykernel)",
   "language": "python",
   "name": "python3"
  },
  "language_info": {
   "codemirror_mode": {
    "name": "ipython",
    "version": 3
   },
   "file_extension": ".py",
   "mimetype": "text/x-python",
   "name": "python",
   "nbconvert_exporter": "python",
   "pygments_lexer": "ipython3",
   "version": "3.11.5"
  }
 },
 "nbformat": 4,
 "nbformat_minor": 5
}
